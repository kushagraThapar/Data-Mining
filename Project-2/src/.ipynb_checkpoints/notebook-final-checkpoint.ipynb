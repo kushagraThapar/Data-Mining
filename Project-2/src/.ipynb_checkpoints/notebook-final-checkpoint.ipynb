{
 "cells": [
  {
   "cell_type": "code",
   "execution_count": 1,
   "metadata": {
    "collapsed": false
   },
   "outputs": [],
   "source": [
    "import pandas as pd\n",
    "import math\n",
    "import numpy as np\n",
    "from time import time\n",
    "import string\n",
    "import itertools\n",
    "from html import unescape\n",
    "import preprocessor as p\n",
    "from sklearn.utils.extmath import density\n",
    "from sklearn import metrics\n",
    "from sklearn import cross_validation\n",
    "from sklearn import svm\n",
    "from sklearn.feature_selection import SelectKBest, chi2\n",
    "from sklearn.feature_extraction.text import CountVectorizer\n",
    "from sklearn.feature_extraction.text import TfidfVectorizer\n",
    "from sklearn.feature_extraction.text import HashingVectorizer\n",
    "from sklearn.feature_extraction.text import TfidfTransformer\n",
    "from sklearn.naive_bayes import BernoulliNB, MultinomialNB\n",
    "from sklearn.neighbors import KNeighborsClassifier\n",
    "from sklearn.ensemble import RandomForestClassifier\n",
    "from sklearn.linear_model import PassiveAggressiveClassifier\n",
    "from sklearn.linear_model import SGDClassifier\n",
    "from sklearn.svm import LinearSVC"
   ]
  },
  {
   "cell_type": "markdown",
   "metadata": {},
   "source": [
    "#### Read data from Excel file and create data frame"
   ]
  },
  {
   "cell_type": "code",
   "execution_count": 2,
   "metadata": {
    "collapsed": false
   },
   "outputs": [],
   "source": [
    "def read_excel_file(filename, sheetname):\n",
    "    return pd.read_excel(filename, sheetname)"
   ]
  },
  {
   "cell_type": "code",
   "execution_count": 3,
   "metadata": {
    "collapsed": false
   },
   "outputs": [],
   "source": [
    "def read_from_input_data (filename):\n",
    "    tweet_df_obama = read_excel_file(filename, 0)\n",
    "    tweet_df_romney = read_excel_file(filename, 1)\n",
    "    \n",
    "    tweet_df_obama['Class'] = tweet_df_obama['Class'].astype('str').map(lambda x: x.lstrip(' ').rstrip(' '))\n",
    "    tweet_df_obama['Class'] = tweet_df_obama['Class'].astype('str').map(lambda x: x.replace('!!!!', ''))\n",
    "    \n",
    "    tweet_data_df_obama = tweet_df_obama.loc[tweet_df_obama.Class=='1'].append(tweet_df_obama.loc[tweet_df_obama.Class=='-1']).append(tweet_df_obama.loc[tweet_df_obama.Class=='0'])\n",
    "    \n",
    "    tweet_data_df_obama.dropna(inplace = True)\n",
    "    \n",
    "    tweet_df_romney['Class'] = tweet_df_romney['Class'].astype('str').map(lambda x: x.lstrip(' ').rstrip(' '))\n",
    "    tweet_df_romney['Class'] = tweet_df_romney['Class'].astype('str').map(lambda x: x.replace('!!!!', ''))\n",
    "    \n",
    "    tweet_data_df_romney = tweet_df_romney.loc[tweet_df_romney.Class=='1'].append(tweet_df_romney.loc[tweet_df_romney.Class=='-1']).append(tweet_df_romney.loc[tweet_df_romney.Class=='0'])\n",
    "    \n",
    "    tweet_data_df_romney.dropna(inplace = True)\n",
    "    \n",
    "    return tweet_data_df_obama, tweet_data_df_romney"
   ]
  },
  {
   "cell_type": "code",
   "execution_count": 4,
   "metadata": {
    "collapsed": false
   },
   "outputs": [],
   "source": [
    "def split_training_data(df, train_data_prcnt):\n",
    "    msk = np.random.rand(len(df)) < train_data_prcnt/100\n",
    "    train = df[msk]\n",
    "    test = df[~msk]\n",
    "    return train, test"
   ]
  },
  {
   "cell_type": "code",
   "execution_count": 5,
   "metadata": {
    "collapsed": false
   },
   "outputs": [],
   "source": [
    "tweet_df_obama, tweet_df_romney = read_from_input_data(\"training-Obama-Romney-tweets.xlsx\")\n",
    "tweet_df_obama_test, tweet_df_romney_test = read_from_input_data(\"testing-Obama-Romney-tweets.xlsx\")\n",
    "exclude = set(string.punctuation)"
   ]
  },
  {
   "cell_type": "code",
   "execution_count": 6,
   "metadata": {
    "collapsed": false
   },
   "outputs": [
    {
     "name": "stdout",
     "output_type": "stream",
     "text": [
      "Train Obama Data\n",
      "-1 : 1968\n",
      " 1 : 1679\n",
      " 0 : 1977\n",
      "\n",
      "Train Romney Data\n",
      "-1 : 2893\n",
      " 1 : 1075\n",
      " 0 : 1680\n",
      "\n",
      "Test Obama Data\n",
      "-1 : 688\n",
      " 1 : 582\n",
      " 0 : 681\n",
      "\n",
      "Test Romney Data\n",
      "-1 : 960\n",
      " 1 : 385\n",
      " 0 : 555\n"
     ]
    }
   ],
   "source": [
    "print(\"Train Obama Data\")\n",
    "print(\"-1 : \" + str(len(tweet_df_obama.loc[tweet_df_obama.Class=='-1'])))\n",
    "print(\" 1 : \" + str(len(tweet_df_obama.loc[tweet_df_obama.Class=='1'])))\n",
    "print(\" 0 : \" + str(len(tweet_df_obama.loc[tweet_df_obama.Class=='0'])))\n",
    "\n",
    "print(\"\\nTrain Romney Data\")\n",
    "\n",
    "print(\"-1 : \" + str(len(tweet_df_romney.loc[tweet_df_romney.Class=='-1'])))\n",
    "print(\" 1 : \" + str(len(tweet_df_romney.loc[tweet_df_romney.Class=='1'])))\n",
    "print(\" 0 : \" + str(len(tweet_df_romney.loc[tweet_df_romney.Class=='0'])))\n",
    "\n",
    "print(\"\\nTest Obama Data\")\n",
    "print(\"-1 : \" + str(len(tweet_df_obama_test.loc[tweet_df_obama_test.Class=='-1'])))\n",
    "print(\" 1 : \" + str(len(tweet_df_obama_test.loc[tweet_df_obama_test.Class=='1'])))\n",
    "print(\" 0 : \" + str(len(tweet_df_obama_test.loc[tweet_df_obama_test.Class=='0'])))\n",
    "\n",
    "print(\"\\nTest Romney Data\")\n",
    "\n",
    "print(\"-1 : \" + str(len(tweet_df_romney_test.loc[tweet_df_romney_test.Class=='-1'])))\n",
    "print(\" 1 : \" + str(len(tweet_df_romney_test.loc[tweet_df_romney_test.Class=='1'])))\n",
    "print(\" 0 : \" + str(len(tweet_df_romney_test.loc[tweet_df_romney_test.Class=='0'])))"
   ]
  },
  {
   "cell_type": "code",
   "execution_count": 7,
   "metadata": {
    "collapsed": false
   },
   "outputs": [],
   "source": [
    "def clean_tweet_text(text):\n",
    "    \n",
    "    if not pd.isnull(text):\n",
    "        # Remove html escape characters and replace with their meaning\n",
    "        text = unescape(text)\n",
    "        # Decode tweet to utf-8 format\n",
    "\n",
    "        text = text.encode(\"ascii\", \"ignore\").decode(\"utf8\")\n",
    "\n",
    "        # Clean data using tweet preprocessor and convert to lower case\n",
    "        text = str.lower(p.clean(text))\n",
    "\n",
    "        # Remove characters\n",
    "        text = text.replace(\"<e>\", \"\")\n",
    "        text = text.replace(\"</e>\", \"\")\n",
    "        text = text.replace(\"<a>\", \"\")\n",
    "        text = text.replace(\"</a>\", \"\")\n",
    "\n",
    "        # Remove multiple repetition of a character in word\n",
    "        text = ''.join(''.join(s)[:2] for _, s in itertools.groupby(text))\n",
    "\n",
    "        # Remove punctuation\n",
    "        text = ''.join(ch for ch in text if ch not in exclude)\n",
    "    return text"
   ]
  },
  {
   "cell_type": "code",
   "execution_count": 8,
   "metadata": {
    "collapsed": false
   },
   "outputs": [],
   "source": [
    "tweet_df_obama['Anootated tweet'] = tweet_df_obama['Anootated tweet'].map(clean_tweet_text)\n",
    "tweet_df_romney['Anootated tweet'] = tweet_df_romney['Anootated tweet'].map(clean_tweet_text)\n",
    "\n",
    "tweet_df_obama_test['Anootated tweet'] = tweet_df_obama_test['Anootated tweet'].map(clean_tweet_text)\n",
    "tweet_df_romney_test['Anootated tweet'] = tweet_df_romney_test['Anootated tweet'].map(clean_tweet_text)\n"
   ]
  },
  {
   "cell_type": "markdown",
   "metadata": {},
   "source": [
    "#### Slipt data into train and test data"
   ]
  },
  {
   "cell_type": "code",
   "execution_count": 9,
   "metadata": {
    "collapsed": false
   },
   "outputs": [
    {
     "name": "stdout",
     "output_type": "stream",
     "text": [
      "5624\n",
      "1951\n",
      "5648\n",
      "1900\n"
     ]
    }
   ],
   "source": [
    "# tweet_random_df_obama = tweet_df_obama.copy()\n",
    "\n",
    "# for i in range(0, 500):\n",
    "#     split1_df, split2_df = split_training_data(tweet_random_df_obama, 50)\n",
    "#     tweet_random_df_obama = pd.concat([split1_df, split2_df])\n",
    "\n",
    "# train_df_obama, test_df_obama = split_training_data(tweet_random_df_obama, 75)\n",
    "\n",
    "print(len(tweet_df_obama))\n",
    "print(len(tweet_df_obama_test))\n",
    "\n",
    "# tweet_random_df_romney = tweet_df_romney.copy()\n",
    "\n",
    "# for i in range(0, 500):\n",
    "#     split1_df, split2_df = split_training_data(tweet_random_df_romney, 50)\n",
    "#     tweet_random_df_romney = pd.concat([split1_df, split2_df])\n",
    "\n",
    "# train_df_romney, test_df_romney = split_training_data(tweet_random_df_romney, 75)\n",
    "\n",
    "print(len(tweet_df_romney))\n",
    "print(len(tweet_df_romney_test))"
   ]
  },
  {
   "cell_type": "markdown",
   "metadata": {},
   "source": [
    "#### Convert Bag of Words model to sparce vectors"
   ]
  },
  {
   "cell_type": "code",
   "execution_count": 10,
   "metadata": {
    "collapsed": false
   },
   "outputs": [],
   "source": [
    "count_vect = CountVectorizer(stop_words='english', max_features=5000 )\n",
    "vectorizer = TfidfVectorizer(sublinear_tf=True, max_df=0.5, stop_words='english', max_features=5000)\n",
    "hash_vectorizer = HashingVectorizer(stop_words='english', non_negative=True, n_features = 5000)\n",
    "tfidf_transformer = TfidfTransformer()"
   ]
  },
  {
   "cell_type": "code",
   "execution_count": 11,
   "metadata": {
    "collapsed": false
   },
   "outputs": [],
   "source": [
    "X_train_counts_obama = count_vect.fit_transform(tweet_df_obama['Anootated tweet'])\n",
    "X_test_counts_obama = count_vect.transform(tweet_df_obama_test['Anootated tweet'])\n",
    "\n",
    "X_train_obama = tfidf_transformer.fit_transform(X_train_counts_obama)\n",
    "X_test_obama = tfidf_transformer.transform(X_test_counts_obama)\n",
    "\n",
    "y_train_obama = tweet_df_obama['Class']\n",
    "y_test_obama = tweet_df_obama_test['Class']\n",
    "\n",
    "\n",
    "X_train_counts_romney = count_vect.fit_transform(tweet_df_romney['Anootated tweet'])\n",
    "X_test_counts_romney = count_vect.transform(tweet_df_romney_test['Anootated tweet'])\n",
    "\n",
    "X_train_romney = tfidf_transformer.fit_transform(X_train_counts_romney)\n",
    "X_test_romney = tfidf_transformer.transform(X_test_counts_romney)\n",
    "\n",
    "y_train_romney = tweet_df_romney['Class']\n",
    "y_test_romney = tweet_df_romney_test['Class']\n"
   ]
  },
  {
   "cell_type": "markdown",
   "metadata": {
    "collapsed": true
   },
   "source": [
    "### Classification function"
   ]
  },
  {
   "cell_type": "code",
   "execution_count": 12,
   "metadata": {
    "collapsed": false
   },
   "outputs": [],
   "source": [
    "def pipeline_function(clf, X_train, X_test, y_train, y_test, categories):\n",
    "    print('*' * 80)\n",
    "    print(\"Training: \")\n",
    "    print(clf)\n",
    "    t0 = time()\n",
    "    clf.fit(X_train, y_train)\n",
    "    train_time = time() - t0\n",
    "    print(\"train time: %0.3fs\" % train_time)\n",
    "\n",
    "    t0 = time()\n",
    "    pred = clf.predict(X_test)\n",
    "    test_time = time() - t0\n",
    "    print(\"test time:  %0.3fs\" % test_time)\n",
    "\n",
    "    score = metrics.accuracy_score(y_test, pred)\n",
    "    print(\"accuracy:   %0.3f\" % score)\n",
    "\n",
    "    if hasattr(clf, 'coef_'):\n",
    "        print(\"dimensionality: %d\" % clf.coef_.shape[1])\n",
    "        print(\"density: %f\" % density(clf.coef_))\n",
    "\n",
    "    print(\"classification report:\")\n",
    "    print(metrics.classification_report(y_test, pred,\n",
    "                                        target_names=categories))\n",
    "\n",
    "    print(\"confusion matrix:\")\n",
    "    print(metrics.confusion_matrix(y_test, pred))\n",
    "\n",
    "    print()\n",
    "    clf_descr = str(clf).split('(')[0]\n",
    "    return clf_descr, score, train_time, test_time\n"
   ]
  },
  {
   "cell_type": "markdown",
   "metadata": {},
   "source": [
    "### Naive Bayes Algorithm"
   ]
  },
  {
   "cell_type": "code",
   "execution_count": 13,
   "metadata": {
    "collapsed": false,
    "scrolled": true
   },
   "outputs": [
    {
     "name": "stdout",
     "output_type": "stream",
     "text": [
      "********************************************************************************\n",
      "Naive Bayes Obama\n",
      "********************************************************************************\n",
      "Training: \n",
      "MultinomialNB(alpha=0.01, class_prior=None, fit_prior=True)\n",
      "train time: 0.017s\n",
      "test time:  0.000s\n",
      "accuracy:   0.519\n",
      "dimensionality: 5000\n",
      "density: 1.000000\n",
      "classification report:\n",
      "             precision    recall  f1-score   support\n",
      "\n",
      "         -1       0.54      0.58      0.56       688\n",
      "          0       0.49      0.48      0.48       681\n",
      "          1       0.54      0.50      0.52       582\n",
      "\n",
      "avg / total       0.52      0.52      0.52      1951\n",
      "\n",
      "confusion matrix:\n",
      "[[397 189 102]\n",
      " [206 325 150]\n",
      " [139 153 290]]\n",
      "\n"
     ]
    }
   ],
   "source": [
    "results = []\n",
    "categories_obama = np.unique(y_train_obama.values)\n",
    "# Train sparse Naive Bayes classifiers\n",
    "print('*' * 80)\n",
    "print(\"Naive Bayes Obama\")\n",
    "results.append(pipeline_function(MultinomialNB(alpha=.01), \n",
    "                                 X_train_obama, X_test_obama, \n",
    "                                 y_train_obama, y_test_obama, \n",
    "                                 categories_obama))"
   ]
  },
  {
   "cell_type": "code",
   "execution_count": 14,
   "metadata": {
    "collapsed": false
   },
   "outputs": [
    {
     "name": "stdout",
     "output_type": "stream",
     "text": [
      "********************************************************************************\n",
      "Naive Bayes Romney\n",
      "********************************************************************************\n",
      "Training: \n",
      "MultinomialNB(alpha=0.01, class_prior=None, fit_prior=True)\n",
      "train time: 0.016s\n",
      "test time:  0.000s\n",
      "accuracy:   0.568\n",
      "dimensionality: 5000\n",
      "density: 1.000000\n",
      "classification report:\n",
      "             precision    recall  f1-score   support\n",
      "\n",
      "         -1       0.61      0.78      0.68       960\n",
      "          0       0.46      0.34      0.39       555\n",
      "          1       0.56      0.36      0.44       385\n",
      "\n",
      "avg / total       0.55      0.57      0.55      1900\n",
      "\n",
      "confusion matrix:\n",
      "[[751 156  53]\n",
      " [312 188  55]\n",
      " [177  68 140]]\n",
      "\n"
     ]
    }
   ],
   "source": [
    "results = []\n",
    "categories_romney = np.unique(y_train_romney.values)\n",
    "# Train sparse Naive Bayes classifiers\n",
    "print('*' * 80)\n",
    "print(\"Naive Bayes Romney\")\n",
    "results.append(pipeline_function(MultinomialNB(alpha=.01), \n",
    "                                 X_train_romney, X_test_romney, \n",
    "                                 y_train_romney, y_test_romney, \n",
    "                                 categories_romney))"
   ]
  },
  {
   "cell_type": "markdown",
   "metadata": {},
   "source": [
    "### k-Nearest Neighbour Classification\n"
   ]
  },
  {
   "cell_type": "code",
   "execution_count": 15,
   "metadata": {
    "collapsed": false
   },
   "outputs": [
    {
     "name": "stdout",
     "output_type": "stream",
     "text": [
      "********************************************************************************\n",
      "k Nearest Neighbour Obama\n",
      "********************************************************************************\n",
      "Training: \n",
      "KNeighborsClassifier(algorithm='auto', leaf_size=30, metric='minkowski',\n",
      "           metric_params=None, n_jobs=-1, n_neighbors=10, p=2,\n",
      "           weights='uniform')\n",
      "train time: 0.009s\n",
      "test time:  1.005s\n",
      "accuracy:   0.482\n",
      "classification report:\n",
      "             precision    recall  f1-score   support\n",
      "\n",
      "         -1       0.63      0.25      0.36       688\n",
      "          0       0.47      0.60      0.52       681\n",
      "          1       0.45      0.62      0.52       582\n",
      "\n",
      "avg / total       0.52      0.48      0.47      1951\n",
      "\n",
      "confusion matrix:\n",
      "[[173 279 236]\n",
      " [ 66 406 209]\n",
      " [ 35 185 362]]\n",
      "\n"
     ]
    }
   ],
   "source": [
    "# Train k-Nearest Neighbour classifiers\n",
    "results = []\n",
    "print('*' * 80)\n",
    "print(\"k Nearest Neighbour Obama\")\n",
    "results.append(pipeline_function(KNeighborsClassifier(n_neighbors=10, n_jobs = -1), \n",
    "                                 X_train_obama, X_test_obama, \n",
    "                                 y_train_obama, y_test_obama, \n",
    "                                 categories_obama))"
   ]
  },
  {
   "cell_type": "code",
   "execution_count": 16,
   "metadata": {
    "collapsed": false
   },
   "outputs": [
    {
     "name": "stdout",
     "output_type": "stream",
     "text": [
      "********************************************************************************\n",
      "k Nearest Neighbour Romney\n",
      "********************************************************************************\n",
      "Training: \n",
      "KNeighborsClassifier(algorithm='auto', leaf_size=30, metric='minkowski',\n",
      "           metric_params=None, n_jobs=-1, n_neighbors=10, p=2,\n",
      "           weights='uniform')\n",
      "train time: 0.006s\n",
      "test time:  1.099s\n",
      "accuracy:   0.558\n",
      "classification report:\n",
      "             precision    recall  f1-score   support\n",
      "\n",
      "         -1       0.61      0.78      0.69       960\n",
      "          0       0.41      0.39      0.40       555\n",
      "          1       0.64      0.25      0.36       385\n",
      "\n",
      "avg / total       0.56      0.56      0.54      1900\n",
      "\n",
      "confusion matrix:\n",
      "[[751 187  22]\n",
      " [310 214  31]\n",
      " [171 118  96]]\n",
      "\n"
     ]
    }
   ],
   "source": [
    "results = []\n",
    "print('*' * 80)\n",
    "print(\"k Nearest Neighbour Romney\")\n",
    "results.append(pipeline_function(KNeighborsClassifier(n_neighbors=10, n_jobs = -1), \n",
    "                                 X_train_romney, X_test_romney, \n",
    "                                 y_train_romney, y_test_romney, \n",
    "                                 categories_romney))"
   ]
  },
  {
   "cell_type": "markdown",
   "metadata": {},
   "source": [
    "### Random Forest Classification"
   ]
  },
  {
   "cell_type": "code",
   "execution_count": 17,
   "metadata": {
    "collapsed": false
   },
   "outputs": [
    {
     "name": "stdout",
     "output_type": "stream",
     "text": [
      "================================================================================\n",
      "Random Forest Obama\n",
      "********************************************************************************\n",
      "Training: \n",
      "RandomForestClassifier(bootstrap=True, class_weight=None, criterion='gini',\n",
      "            max_depth=None, max_features='auto', max_leaf_nodes=None,\n",
      "            min_samples_leaf=1, min_samples_split=2,\n",
      "            min_weight_fraction_leaf=0.0, n_estimators=100, n_jobs=1,\n",
      "            oob_score=False, random_state=None, verbose=0,\n",
      "            warm_start=False)\n",
      "train time: 4.874s\n",
      "test time:  0.143s\n",
      "accuracy:   0.534\n",
      "classification report:\n",
      "             precision    recall  f1-score   support\n",
      "\n",
      "         -1       0.60      0.54      0.57       688\n",
      "          0       0.49      0.57      0.52       681\n",
      "          1       0.52      0.49      0.51       582\n",
      "\n",
      "avg / total       0.54      0.53      0.53      1951\n",
      "\n",
      "confusion matrix:\n",
      "[[370 201 117]\n",
      " [152 387 142]\n",
      " [ 91 206 285]]\n",
      "\n"
     ]
    }
   ],
   "source": [
    "# Train Random Forest classifiers\n",
    "results = []\n",
    "print('=' * 80)\n",
    "print(\"Random Forest Obama\")\n",
    "results.append(pipeline_function(RandomForestClassifier(n_estimators=100), \n",
    "                                 X_train_obama, X_test_obama, \n",
    "                                 y_train_obama, y_test_obama, \n",
    "                                 categories_obama))"
   ]
  },
  {
   "cell_type": "code",
   "execution_count": 18,
   "metadata": {
    "collapsed": false
   },
   "outputs": [
    {
     "name": "stdout",
     "output_type": "stream",
     "text": [
      "================================================================================\n",
      "Random Forest Romney\n",
      "********************************************************************************\n",
      "Training: \n",
      "RandomForestClassifier(bootstrap=True, class_weight=None, criterion='gini',\n",
      "            max_depth=None, max_features='auto', max_leaf_nodes=None,\n",
      "            min_samples_leaf=1, min_samples_split=2,\n",
      "            min_weight_fraction_leaf=0.0, n_estimators=100, n_jobs=1,\n",
      "            oob_score=False, random_state=None, verbose=0,\n",
      "            warm_start=False)\n",
      "train time: 5.251s\n",
      "test time:  0.148s\n",
      "accuracy:   0.588\n",
      "classification report:\n",
      "             precision    recall  f1-score   support\n",
      "\n",
      "         -1       0.60      0.85      0.70       960\n",
      "          0       0.50      0.31      0.38       555\n",
      "          1       0.64      0.34      0.44       385\n",
      "\n",
      "avg / total       0.58      0.59      0.56      1900\n",
      "\n",
      "confusion matrix:\n",
      "[[814 113  33]\n",
      " [342 173  40]\n",
      " [197  58 130]]\n",
      "\n"
     ]
    }
   ],
   "source": [
    "# Train Random Forest classifiers\n",
    "results = []\n",
    "print('=' * 80)\n",
    "print(\"Random Forest Romney\")\n",
    "results.append(pipeline_function(RandomForestClassifier(n_estimators=100), \n",
    "                                 X_train_romney, X_test_romney, \n",
    "                                 y_train_romney, y_test_romney, \n",
    "                                 categories_romney))"
   ]
  },
  {
   "cell_type": "markdown",
   "metadata": {},
   "source": [
    "### SGD Model"
   ]
  },
  {
   "cell_type": "code",
   "execution_count": 19,
   "metadata": {
    "collapsed": false
   },
   "outputs": [
    {
     "name": "stdout",
     "output_type": "stream",
     "text": [
      "********************************************************************************\n",
      "SGD Model Obama\n",
      "********************************************************************************\n",
      "Training: \n",
      "SGDClassifier(alpha=0.0001, average=False, class_weight=None, epsilon=0.1,\n",
      "       eta0=0.0, fit_intercept=True, l1_ratio=0.15,\n",
      "       learning_rate='optimal', loss='hinge', n_iter=50, n_jobs=1,\n",
      "       penalty='l1', power_t=0.5, random_state=None, shuffle=True,\n",
      "       verbose=0, warm_start=False)\n",
      "train time: 0.133s\n",
      "test time:  0.000s\n",
      "accuracy:   0.547\n",
      "dimensionality: 5000\n",
      "density: 0.279267\n",
      "classification report:\n",
      "             precision    recall  f1-score   support\n",
      "\n",
      "         -1       0.57      0.57      0.57       688\n",
      "          0       0.51      0.53      0.52       681\n",
      "          1       0.56      0.54      0.55       582\n",
      "\n",
      "avg / total       0.55      0.55      0.55      1951\n",
      "\n",
      "confusion matrix:\n",
      "[[394 188 106]\n",
      " [184 361 136]\n",
      " [114 156 312]]\n",
      "\n"
     ]
    }
   ],
   "source": [
    "# Train SGD Classifier\n",
    "results = []\n",
    "print('*' * 80)\n",
    "print(\"SGD Model Obama\")\n",
    "results.append(pipeline_function(SGDClassifier(alpha=.0001, n_iter=50,\n",
    "                                           penalty='l1'), \n",
    "                                 X_train_obama, X_test_obama, \n",
    "                                 y_train_obama, y_test_obama, \n",
    "                                 categories_obama))"
   ]
  },
  {
   "cell_type": "code",
   "execution_count": 20,
   "metadata": {
    "collapsed": false
   },
   "outputs": [
    {
     "name": "stdout",
     "output_type": "stream",
     "text": [
      "********************************************************************************\n",
      "SGD Model Romney\n",
      "********************************************************************************\n",
      "Training: \n",
      "SGDClassifier(alpha=0.0001, average=False, class_weight=None, epsilon=0.1,\n",
      "       eta0=0.0, fit_intercept=True, l1_ratio=0.15,\n",
      "       learning_rate='optimal', loss='hinge', n_iter=50, n_jobs=1,\n",
      "       penalty='l1', power_t=0.5, random_state=None, shuffle=True,\n",
      "       verbose=0, warm_start=False)\n",
      "train time: 0.119s\n",
      "test time:  0.000s\n",
      "accuracy:   0.562\n",
      "dimensionality: 5000\n",
      "density: 0.261533\n",
      "classification report:\n",
      "             precision    recall  f1-score   support\n",
      "\n",
      "         -1       0.61      0.78      0.68       960\n",
      "          0       0.43      0.32      0.37       555\n",
      "          1       0.53      0.37      0.44       385\n",
      "\n",
      "avg / total       0.54      0.56      0.54      1900\n",
      "\n",
      "confusion matrix:\n",
      "[[744 153  63]\n",
      " [312 179  64]\n",
      " [158  83 144]]\n",
      "\n"
     ]
    }
   ],
   "source": [
    "# Train SGD Classifier\n",
    "results = []\n",
    "print('*' * 80)\n",
    "print(\"SGD Model Romney\")\n",
    "results.append(pipeline_function(SGDClassifier(alpha=.0001, n_iter=50,\n",
    "                                           penalty='l1'), \n",
    "                                 X_train_romney, X_test_romney, \n",
    "                                 y_train_romney, y_test_romney, \n",
    "                                 categories_romney))"
   ]
  },
  {
   "cell_type": "markdown",
   "metadata": {},
   "source": [
    "### Linear SVM Classifier"
   ]
  },
  {
   "cell_type": "code",
   "execution_count": 21,
   "metadata": {
    "collapsed": false
   },
   "outputs": [
    {
     "name": "stdout",
     "output_type": "stream",
     "text": [
      "********************************************************************************\n",
      "Linear SVM Model Obama\n",
      "********************************************************************************\n",
      "Training: \n",
      "LinearSVC(C=1.0, class_weight=None, dual=False, fit_intercept=True,\n",
      "     intercept_scaling=1, loss='squared_hinge', max_iter=1000,\n",
      "     multi_class='ovr', penalty='l2', random_state=None, tol=0.001,\n",
      "     verbose=0)\n",
      "train time: 0.058s\n",
      "test time:  0.000s\n",
      "accuracy:   0.536\n",
      "dimensionality: 5000\n",
      "density: 1.000000\n",
      "classification report:\n",
      "             precision    recall  f1-score   support\n",
      "\n",
      "         -1       0.55      0.57      0.56       688\n",
      "          0       0.51      0.51      0.51       681\n",
      "          1       0.56      0.52      0.54       582\n",
      "\n",
      "avg / total       0.54      0.54      0.54      1951\n",
      "\n",
      "confusion matrix:\n",
      "[[392 186 110]\n",
      " [201 348 132]\n",
      " [122 155 305]]\n",
      "\n"
     ]
    }
   ],
   "source": [
    "# Train Linear SVM Classifier\n",
    "print('*' * 80)\n",
    "print(\"Linear SVM Model Obama\")\n",
    "results.append(pipeline_function(LinearSVC(loss='squared_hinge', penalty='l2',\n",
    "                                            dual=False, tol=1e-3),\n",
    "                                X_train_obama, X_test_obama, \n",
    "                                 y_train_obama, y_test_obama, \n",
    "                                 categories_obama))"
   ]
  },
  {
   "cell_type": "code",
   "execution_count": 22,
   "metadata": {
    "collapsed": false
   },
   "outputs": [
    {
     "name": "stdout",
     "output_type": "stream",
     "text": [
      "********************************************************************************\n",
      "Linear SVM Model Romney\n",
      "********************************************************************************\n",
      "Training: \n",
      "LinearSVC(C=1.0, class_weight=None, dual=False, fit_intercept=True,\n",
      "     intercept_scaling=1, loss='squared_hinge', max_iter=1000,\n",
      "     multi_class='ovr', penalty='l2', random_state=None, tol=0.001,\n",
      "     verbose=0)\n",
      "train time: 0.056s\n",
      "test time:  0.000s\n",
      "accuracy:   0.556\n",
      "dimensionality: 5000\n",
      "density: 1.000000\n",
      "classification report:\n",
      "             precision    recall  f1-score   support\n",
      "\n",
      "         -1       0.64      0.70      0.67       960\n",
      "          0       0.43      0.41      0.42       555\n",
      "          1       0.51      0.42      0.46       385\n",
      "\n",
      "avg / total       0.55      0.56      0.55      1900\n",
      "\n",
      "confusion matrix:\n",
      "[[670 208  82]\n",
      " [255 225  75]\n",
      " [130  93 162]]\n",
      "\n"
     ]
    }
   ],
   "source": [
    "# Train Linear SVM Classifier\n",
    "print('*' * 80)\n",
    "print(\"Linear SVM Model Romney\")\n",
    "results.append(pipeline_function(LinearSVC(loss='squared_hinge', penalty='l2',\n",
    "                                            dual=False, tol=1e-3),\n",
    "                                X_train_romney, X_test_romney, \n",
    "                                 y_train_romney, y_test_romney, \n",
    "                                 categories_romney))"
   ]
  }
 ],
 "metadata": {
  "anaconda-cloud": {},
  "kernelspec": {
   "display_name": "Python 3",
   "language": "python",
   "name": "python3"
  },
  "language_info": {
   "codemirror_mode": {
    "name": "ipython",
    "version": 3
   },
   "file_extension": ".py",
   "mimetype": "text/x-python",
   "name": "python",
   "nbconvert_exporter": "python",
   "pygments_lexer": "ipython3",
   "version": "3.5.1"
  }
 },
 "nbformat": 4,
 "nbformat_minor": 0
}
